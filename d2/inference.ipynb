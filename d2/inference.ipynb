{
 "cells": [
  {
   "cell_type": "markdown",
   "id": "capable-space",
   "metadata": {},
   "source": [
    "# Inference example"
   ]
  },
  {
   "cell_type": "code",
   "execution_count": null,
   "id": "excellent-curtis",
   "metadata": {},
   "outputs": [],
   "source": [
    "import sys\n",
    "sys.path.append('../')\n",
    "\n",
    "import cv2\n",
    "import matplotlib.pyplot as plt\n",
    "\n",
    "from detectron2 import config\n",
    "from detectron2.engine import DefaultPredictor\n",
    "from detectron2.utils.visualizer import Visualizer\n",
    "\n",
    "from d2.detr import DetrDatasetMapper, add_detr_config"
   ]
  },
  {
   "cell_type": "markdown",
   "id": "understood-georgia",
   "metadata": {},
   "source": [
    "## Define paths and constants"
   ]
  },
  {
   "cell_type": "code",
   "execution_count": null,
   "id": "abstract-conspiracy",
   "metadata": {},
   "outputs": [],
   "source": [
    "CONFIG_PATH = 'logs/coco_finetune_augmented/config.yaml'\n",
    "MODEL_WEIGHTS = 'logs/coco_finetune_augmented/model_final.pth'\n",
    "IMAGE_PATH = '/opt/kuna/data/clean_vertexFull100k_S2018/vertexFull100k_S2018/JPEGImages/KNP04BK001041800206/2018_07_05__12_20_15-0400-0000000-1.JPEG'\n",
    "# Arbitrary threshold, this one is taken from the official colab, without any data specific tuning\n",
    "THRESHOLD = 0.8"
   ]
  },
  {
   "cell_type": "code",
   "execution_count": null,
   "id": "checked-angel",
   "metadata": {},
   "outputs": [],
   "source": [
    "cfg = config.get_cfg()\n",
    "add_detr_config(cfg)\n",
    "cfg.merge_from_file(CONFIG_PATH)\n",
    "cfg.MODEL.WEIGHTS = MODEL_WEIGHTS\n",
    "# Change to cpu here if needed\n",
    "cfg.MODEL.DEVICE='cuda:0' "
   ]
  },
  {
   "cell_type": "markdown",
   "id": "parallel-permit",
   "metadata": {},
   "source": [
    "## Create predictor"
   ]
  },
  {
   "cell_type": "code",
   "execution_count": null,
   "id": "soviet-trouble",
   "metadata": {},
   "outputs": [],
   "source": [
    "predictor = DefaultPredictor(cfg)"
   ]
  },
  {
   "cell_type": "code",
   "execution_count": null,
   "id": "focused-cowboy",
   "metadata": {},
   "outputs": [],
   "source": [
    "im = cv2.imread(IMAGE_PATH)\n",
    "outputs = predictor(im)"
   ]
  },
  {
   "cell_type": "code",
   "execution_count": null,
   "id": "vocal-gibraltar",
   "metadata": {},
   "outputs": [],
   "source": [
    "instances = outputs['instances']\n",
    "indices = (outputs['instances'].scores > THRESHOLD).nonzero().squeeze()\n",
    "if len(indices.size()) > 0:\n",
    "    instances = instances[indices]\n",
    "else:\n",
    "    instances = instances[indices.item()]\n",
    "\n",
    "v = Visualizer(im[:, :, ::-1])\n",
    "v = v.draw_instance_predictions(instances.to(\"cpu\"))\n",
    "plt.figure(figsize = (16,9))\n",
    "plt.imshow(cv2.cvtColor(v.get_image()[:, :, ::-1], cv2.COLOR_BGR2RGB))"
   ]
  },
  {
   "cell_type": "markdown",
   "id": "nervous-delivery",
   "metadata": {},
   "source": [
    "# Batch inference"
   ]
  },
  {
   "cell_type": "code",
   "execution_count": null,
   "id": "involved-block",
   "metadata": {},
   "outputs": [],
   "source": [
    "import torch\n",
    "import numpy as np\n",
    "\n",
    "with torch.no_grad():\n",
    "    pred_img = cv2.cvtColor(im, cv2.COLOR_BGR2RGB)\n",
    "    pred_img = predictor.aug.get_transform(pred_img).apply_image(pred_img)\n",
    "    outputs = predictor.model([{\"image\": torch.from_numpy(pred_img.transpose((2, 0, 1)))}])[0]"
   ]
  },
  {
   "cell_type": "code",
   "execution_count": null,
   "id": "violent-instrumentation",
   "metadata": {},
   "outputs": [],
   "source": [
    "instances = outputs['instances']\n",
    "indices = (outputs['instances'].scores > THRESHOLD).nonzero().squeeze()\n",
    "if len(indices.size()) > 0:\n",
    "    instances = instances[indices]\n",
    "else:\n",
    "    instances = instances[indices.item()]\n",
    "\n",
    "v = Visualizer(im[:, :, ::-1])\n",
    "v = v.draw_instance_predictions(instances.to(\"cpu\"))\n",
    "plt.figure(figsize = (16,9))\n",
    "plt.imshow(cv2.cvtColor(v.get_image()[:, :, ::-1], cv2.COLOR_BGR2RGB))"
   ]
  },
  {
   "cell_type": "markdown",
   "id": "prepared-award",
   "metadata": {},
   "source": [
    "## Calculate FPS"
   ]
  },
  {
   "cell_type": "code",
   "execution_count": null,
   "id": "classified-brazil",
   "metadata": {},
   "outputs": [],
   "source": [
    "import time\n",
    "import numpy as np\n",
    "\n",
    "times = []\n",
    "for i in range(128):\n",
    "    start_time = time.time()\n",
    "    outputs = predictor(im)\n",
    "    delta = time.time() - start_time\n",
    "    times.append(delta)\n",
    "mean_delta = np.array(times).mean()\n",
    "fps = 1 / mean_delta\n",
    "print(\"Average(sec):{:.2f}, fps:{:.2f}\".format(mean_delta, fps))"
   ]
  },
  {
   "cell_type": "code",
   "execution_count": null,
   "id": "compatible-produce",
   "metadata": {},
   "outputs": [],
   "source": [
    "ITERATIONS = 1024\n",
    "\n",
    "start_time = time.time()\n",
    "for i in range(ITERATIONS):\n",
    "    outputs = predictor(im)\n",
    "\n",
    "delta = time.time() - start_time\n",
    "avg = delta / ITERATIONS\n",
    "print(\"Total time (sec):{:.2f}, avg per image :{:.2f}\".format(delta, avg))"
   ]
  },
  {
   "cell_type": "code",
   "execution_count": null,
   "id": "dangerous-protection",
   "metadata": {},
   "outputs": [],
   "source": [
    "BATCH_SIZE = 64\n",
    "\n",
    "with torch.no_grad():\n",
    "    start_time = time.time()\n",
    "    for i in range(ITERATIONS // BATCH_SIZE):\n",
    "        batch = [{\"image\": torch.from_numpy(im.transpose((2, 0, 1)))} for i in range(BATCH_SIZE)]\n",
    "        _ = predictor.model(batch)\n",
    "\n",
    "    delta = time.time() - start_time\n",
    "    avg = delta / ITERATIONS\n",
    "    print(\"Total time (sec):{:.2f}, avg per image :{:.2f}\".format(delta, avg))"
   ]
  },
  {
   "cell_type": "code",
   "execution_count": null,
   "id": "sound-opinion",
   "metadata": {},
   "outputs": [],
   "source": []
  }
 ],
 "metadata": {
  "kernelspec": {
   "display_name": "Python 3",
   "language": "python",
   "name": "python3"
  },
  "language_info": {
   "codemirror_mode": {
    "name": "ipython",
    "version": 3
   },
   "file_extension": ".py",
   "mimetype": "text/x-python",
   "name": "python",
   "nbconvert_exporter": "python",
   "pygments_lexer": "ipython3",
   "version": "3.7.0"
  }
 },
 "nbformat": 4,
 "nbformat_minor": 5
}
